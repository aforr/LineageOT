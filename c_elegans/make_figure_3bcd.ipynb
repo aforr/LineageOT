{
 "cells": [
  {
   "cell_type": "code",
   "execution_count": 1,
   "metadata": {},
   "outputs": [],
   "source": [
    "import anndata\n",
    "import copy\n",
    "import matplotlib.pyplot as plt\n",
    "import networkx as nx\n",
    "import numpy as np\n",
    "import os\n",
    "import ot\n",
    "import pandas as pd\n",
    "import pickle\n",
    "import scanpy as sc\n",
    "import scipy.stats\n",
    "import seaborn as sb\n",
    "import warnings\n",
    "\n",
    "\n",
    "import lineageot.inference\n",
    "import lineageot.simulation\n",
    "import lineageot.evaluation"
   ]
  },
  {
   "cell_type": "code",
   "execution_count": 2,
   "metadata": {},
   "outputs": [],
   "source": [
    "data_path = \"data/\"\n",
    "save_dir = \"plots/\"\n",
    "if not os.path.exists(save_dir):\n",
    "    os.makedirs(save_dir)  "
   ]
  },
  {
   "cell_type": "code",
   "execution_count": 3,
   "metadata": {},
   "outputs": [],
   "source": [
    "with open(data_path + 'pickled_filtered_anndata.p', 'rb') as file:\n",
    "    adata = pickle.load(file)"
   ]
  },
  {
   "cell_type": "code",
   "execution_count": 4,
   "metadata": {},
   "outputs": [],
   "source": [
    "with open(data_path + \"packer_pickle_lineage_tree.p\", 'rb') as file:\n",
    "    full_reference_tree = pickle.load(file)"
   ]
  },
  {
   "cell_type": "markdown",
   "metadata": {},
   "source": [
    "### Normalization and preprocessing"
   ]
  },
  {
   "cell_type": "code",
   "execution_count": 5,
   "metadata": {},
   "outputs": [],
   "source": [
    "# Removing partially lineage-labeled cells\n",
    "\n",
    "adata = adata[adata.obs['lineage'] == adata.obs['random_precise_lineage']]"
   ]
  },
  {
   "cell_type": "markdown",
   "metadata": {},
   "source": [
    "#### Filtering cells + genes"
   ]
  },
  {
   "cell_type": "code",
   "execution_count": 6,
   "metadata": {},
   "outputs": [
    {
     "name": "stderr",
     "output_type": "stream",
     "text": [
      "Trying to set attribute `.obs` of view, copying.\n"
     ]
    }
   ],
   "source": [
    "adata.obs['n_counts'] = adata.X.sum(1)\n",
    "adata.obs['log_counts'] = np.log(adata.obs['n_counts'])\n",
    "adata.obs['n_genes'] = (adata.X > 0).sum(1)"
   ]
  },
  {
   "cell_type": "code",
   "execution_count": 7,
   "metadata": {},
   "outputs": [
    {
     "name": "stdout",
     "output_type": "stream",
     "text": [
      "CPU times: user 10.6 s, sys: 560 ms, total: 11.1 s\n",
      "Wall time: 2.9 s\n"
     ]
    },
    {
     "data": {
      "text/plain": [
       "AnnData object with n_obs × n_vars = 5123 × 20222\n",
       "    obs: 'Unnamed: 0', 'Unnamed: 0.1', 'cell', 'n.umi', 'time.point', 'batch', 'Size_Factor', 'cell.type', 'cell.subtype', 'plot.cell.type', 'raw.embryo.time', 'embryo.time', 'embryo.time.bin', 'raw.embryo.time.bin', 'lineage', 'passed_initial_QC_or_later_whitelisted', 'random_precise_lineage', 'n_counts', 'log_counts', 'n_genes'\n",
       "    var: 'Unnamed: 0', 'id', 'gene_short_name'\n",
       "    uns: 'log1p', 'pca'\n",
       "    obsm: 'X_pca'\n",
       "    varm: 'PCs'"
      ]
     },
     "execution_count": 7,
     "metadata": {},
     "output_type": "execute_result"
    }
   ],
   "source": [
    "%%time\n",
    "sc.pp.normalize_total(adata)\n",
    "sc.pp.log1p(adata)\n",
    "sc.pp.pca(adata)\n",
    "adata"
   ]
  },
  {
   "cell_type": "code",
   "execution_count": 8,
   "metadata": {},
   "outputs": [],
   "source": [
    "\n",
    "adata.obs.index = adata.obs['cell']\n",
    "\n",
    "adata = adata[adata.obs.index.sort_values()].copy()\n",
    "# for some reason on linux we need to redo this\n",
    "# possibly due to version change of anndata (or dependencies)\n",
    "# it seems that the previous indexing changed the index\n",
    "adata.obs.index = adata.obs['cell']"
   ]
  },
  {
   "cell_type": "code",
   "execution_count": 9,
   "metadata": {},
   "outputs": [
    {
     "name": "stdout",
     "output_type": "stream",
     "text": [
      "AnnData 0.7.4\n"
     ]
    }
   ],
   "source": [
    "print(\"AnnData\", anndata.__version__)\n",
    "# issue above observed for AnnData 0.7.4"
   ]
  },
  {
   "cell_type": "markdown",
   "metadata": {},
   "source": [
    "### Embryo time selection"
   ]
  },
  {
   "cell_type": "code",
   "execution_count": 10,
   "metadata": {},
   "outputs": [],
   "source": [
    "def assign_time_to_bin(bin_string):\n",
    "    if bin_string == '< 100':\n",
    "        return 75\n",
    "    elif bin_string == '> 650':\n",
    "        # arbitrary choice here\n",
    "        return 700\n",
    "    else:\n",
    "        # end of time range\n",
    "        return (0*int(bin_string[0:3]) + 1*int(bin_string[-3:]))\n",
    "    return"
   ]
  },
  {
   "cell_type": "code",
   "execution_count": 11,
   "metadata": {},
   "outputs": [],
   "source": [
    "# If you would like to save time by only running the evaluation\n",
    "# on a subset of the cells, change num_subbatches to an integer larger than 1.\n",
    "\n",
    "# randomly splitting each batch into subbatches \n",
    "# so that there are fewer cells and the evaluation runs faster\n",
    "num_subbatches = 1\n",
    "adata.obs['assigned_batch_time'] = adata.obs['embryo.time.bin'].map(lambda x: assign_time_to_bin(x)\n",
    "                                                                   + np.random.randint(num_subbatches))"
   ]
  },
  {
   "cell_type": "code",
   "execution_count": 12,
   "metadata": {},
   "outputs": [
    {
     "name": "stdout",
     "output_type": "stream",
     "text": [
      "[ 75 130 170 210 270 330 390 450 510 580 650 700]\n"
     ]
    }
   ],
   "source": [
    "batches = adata.obs['assigned_batch_time'].unique()\n",
    "batches = np.sort(batches)\n",
    "print(batches)"
   ]
  },
  {
   "cell_type": "code",
   "execution_count": 13,
   "metadata": {},
   "outputs": [],
   "source": [
    "def create_lineage_tree(adata, batch_time, reference_tree = full_reference_tree, obsm_key = 'X_pca'):\n",
    "    selected_cells = adata[adata.obs['assigned_batch_time'] == batch_time]\n",
    "    \n",
    "    # no need to remove any nodes from the reference\n",
    "    # (unobserved subtrees have no effect on the inference)\n",
    "    new_tree = copy.deepcopy(full_reference_tree)\n",
    "    \n",
    "    bad_cell_list = []\n",
    "    good_cell_list = []\n",
    "    for cell in selected_cells.obs.index:\n",
    "        cell_label = selected_cells.obs['random_precise_lineage'][cell]\n",
    "        cell_index = adata.obs.index.get_loc(cell)\n",
    "        \n",
    "        parent = next(reference_tree.predecessors(cell_label))\n",
    "        \n",
    "        if batch_time <= new_tree.nodes[parent]['time']:\n",
    "            warnings.warn('Nonpositive time to parent ('\n",
    "                          + str(batch_time - new_tree.nodes[parent]['time'])\n",
    "                          + ') encountered in batch '\n",
    "                          + str(batch_time) \n",
    "                          + ' for cell ' + cell)\n",
    "            bad_cell_list.append(cell)\n",
    "            # filter this cell out\n",
    "            continue\n",
    "        else:\n",
    "            good_cell_list.append(cell)\n",
    "        \n",
    "        new_tree.add_node(cell)\n",
    "        new_tree.add_edge(parent, cell)\n",
    "        \n",
    "        new_tree.nodes[cell]['name'] = cell_label\n",
    "        new_tree.nodes[cell]['time'] = batch_time\n",
    "        new_tree.nodes[cell]['time_to_parent'] = batch_time - new_tree.nodes[parent]['time']\n",
    "        new_tree.nodes[cell]['cell'] = lineageot.simulation.Cell(adata.obsm[obsm_key][cell_index, :], cell_label)\n",
    "        \n",
    "        assert(new_tree.nodes[cell]['time_to_parent'] >= 0)\n",
    "        \n",
    "        \n",
    "    return new_tree, good_cell_list, bad_cell_list"
   ]
  },
  {
   "cell_type": "code",
   "execution_count": 14,
   "metadata": {},
   "outputs": [
    {
     "name": "stderr",
     "output_type": "stream",
     "text": [
      "/home/aden/anaconda3/envs/lineageOT/lib/python3.6/site-packages/ipykernel_launcher.py:21: UserWarning: Nonpositive time to parent (-147.0) encountered in batch 75 for cell GTGCGGTGTATGGTTC-b01\n",
      "/home/aden/anaconda3/envs/lineageOT/lib/python3.6/site-packages/ipykernel_launcher.py:21: UserWarning: Nonpositive time to parent (-52.0) encountered in batch 130 for cell TACGGATGTACCCAAT-b01\n",
      "/home/aden/anaconda3/envs/lineageOT/lib/python3.6/site-packages/ipykernel_launcher.py:21: UserWarning: Nonpositive time to parent (-2.0) encountered in batch 170 for cell ACATCAGCAATCCAAC-r17\n",
      "/home/aden/anaconda3/envs/lineageOT/lib/python3.6/site-packages/ipykernel_launcher.py:21: UserWarning: Nonpositive time to parent (-12.0) encountered in batch 170 for cell ATCTGCCAGGCATTGG-r17\n",
      "/home/aden/anaconda3/envs/lineageOT/lib/python3.6/site-packages/ipykernel_launcher.py:21: UserWarning: Nonpositive time to parent (-20.0) encountered in batch 170 for cell CACTCCAAGCTGCCCA-r17\n",
      "/home/aden/anaconda3/envs/lineageOT/lib/python3.6/site-packages/ipykernel_launcher.py:21: UserWarning: Nonpositive time to parent (-2.0) encountered in batch 170 for cell CACTCCAGTAAACCTC-b01\n",
      "/home/aden/anaconda3/envs/lineageOT/lib/python3.6/site-packages/ipykernel_launcher.py:21: UserWarning: Nonpositive time to parent (-2.0) encountered in batch 170 for cell CAGCTAAAGTACCGGA-r17\n",
      "/home/aden/anaconda3/envs/lineageOT/lib/python3.6/site-packages/ipykernel_launcher.py:21: UserWarning: Nonpositive time to parent (-12.0) encountered in batch 170 for cell CATTCGCGTGAGCGAT-r17\n",
      "/home/aden/anaconda3/envs/lineageOT/lib/python3.6/site-packages/ipykernel_launcher.py:21: UserWarning: Nonpositive time to parent (-12.0) encountered in batch 170 for cell CGCTGGACAAAGTCAA-r17\n",
      "/home/aden/anaconda3/envs/lineageOT/lib/python3.6/site-packages/ipykernel_launcher.py:21: UserWarning: Nonpositive time to parent (-2.0) encountered in batch 170 for cell CTTGGCTTCAACTCTT-b01\n",
      "/home/aden/anaconda3/envs/lineageOT/lib/python3.6/site-packages/ipykernel_launcher.py:21: UserWarning: Nonpositive time to parent (-2.0) encountered in batch 170 for cell GGCCGATTCCCTGACT-r17\n",
      "/home/aden/anaconda3/envs/lineageOT/lib/python3.6/site-packages/ipykernel_launcher.py:21: UserWarning: Nonpositive time to parent (-2.0) encountered in batch 170 for cell GGGTTGCTCTAGCACA-b01\n",
      "/home/aden/anaconda3/envs/lineageOT/lib/python3.6/site-packages/ipykernel_launcher.py:21: UserWarning: Nonpositive time to parent (-12.0) encountered in batch 170 for cell TACTCATGTTAAGACA-r17\n",
      "/home/aden/anaconda3/envs/lineageOT/lib/python3.6/site-packages/ipykernel_launcher.py:21: UserWarning: Nonpositive time to parent (-2.0) encountered in batch 170 for cell TAGTGGTGTTACTGAC-400.2.1\n",
      "/home/aden/anaconda3/envs/lineageOT/lib/python3.6/site-packages/ipykernel_launcher.py:21: UserWarning: Nonpositive time to parent (-2.0) encountered in batch 170 for cell TGACGGCGTAGATTAG-r17\n",
      "/home/aden/anaconda3/envs/lineageOT/lib/python3.6/site-packages/ipykernel_launcher.py:21: UserWarning: Nonpositive time to parent (-12.0) encountered in batch 170 for cell TTATGCTTCTTGTATC-r17\n",
      "/home/aden/anaconda3/envs/lineageOT/lib/python3.6/site-packages/ipykernel_launcher.py:21: UserWarning: Nonpositive time to parent (-11.0) encountered in batch 210 for cell AAAGTAGGTACACCGC-300.1.1\n",
      "/home/aden/anaconda3/envs/lineageOT/lib/python3.6/site-packages/ipykernel_launcher.py:21: UserWarning: Nonpositive time to parent (-30.0) encountered in batch 210 for cell AACCATGAGGGTTCCC-b01\n",
      "/home/aden/anaconda3/envs/lineageOT/lib/python3.6/site-packages/ipykernel_launcher.py:21: UserWarning: Nonpositive time to parent (-5.0) encountered in batch 210 for cell AACCATGGTGGTACAG-r17\n",
      "/home/aden/anaconda3/envs/lineageOT/lib/python3.6/site-packages/ipykernel_launcher.py:21: UserWarning: Nonpositive time to parent (0.0) encountered in batch 210 for cell AAGACCTTCTGATTCT-400.2.2\n",
      "/home/aden/anaconda3/envs/lineageOT/lib/python3.6/site-packages/ipykernel_launcher.py:21: UserWarning: Nonpositive time to parent (-30.0) encountered in batch 210 for cell ACACCGGGTCGATTGT-400.2.2\n",
      "/home/aden/anaconda3/envs/lineageOT/lib/python3.6/site-packages/ipykernel_launcher.py:21: UserWarning: Nonpositive time to parent (-5.0) encountered in batch 210 for cell ACACCGGTCAGAGCTT-400.2.3\n",
      "/home/aden/anaconda3/envs/lineageOT/lib/python3.6/site-packages/ipykernel_launcher.py:21: UserWarning: Nonpositive time to parent (-20.0) encountered in batch 210 for cell ACCGTAAAGGCTCAGA-b02\n",
      "/home/aden/anaconda3/envs/lineageOT/lib/python3.6/site-packages/ipykernel_launcher.py:21: UserWarning: Nonpositive time to parent (-5.0) encountered in batch 210 for cell ACGCCAGCATTCCTCG-r17\n",
      "/home/aden/anaconda3/envs/lineageOT/lib/python3.6/site-packages/ipykernel_launcher.py:21: UserWarning: Nonpositive time to parent (-12.0) encountered in batch 210 for cell ACGGGTCAGCCAGGAT-b01\n",
      "/home/aden/anaconda3/envs/lineageOT/lib/python3.6/site-packages/ipykernel_launcher.py:21: UserWarning: Nonpositive time to parent (0.0) encountered in batch 210 for cell ACTGAGTGTTCCATGA-400.2.2\n",
      "/home/aden/anaconda3/envs/lineageOT/lib/python3.6/site-packages/ipykernel_launcher.py:21: UserWarning: Nonpositive time to parent (-30.0) encountered in batch 210 for cell ACTGATGTCACGAAGG-r17\n",
      "/home/aden/anaconda3/envs/lineageOT/lib/python3.6/site-packages/ipykernel_launcher.py:21: UserWarning: Nonpositive time to parent (-11.0) encountered in batch 210 for cell AGCCTAATCCTGCAGG-400.2.2\n",
      "/home/aden/anaconda3/envs/lineageOT/lib/python3.6/site-packages/ipykernel_launcher.py:21: UserWarning: Nonpositive time to parent (-11.0) encountered in batch 210 for cell AGGTCATTCAACCATG-300.1.2\n",
      "/home/aden/anaconda3/envs/lineageOT/lib/python3.6/site-packages/ipykernel_launcher.py:21: UserWarning: Nonpositive time to parent (-5.0) encountered in batch 210 for cell AGTGGGACAGGGCATA-400.2.1\n",
      "/home/aden/anaconda3/envs/lineageOT/lib/python3.6/site-packages/ipykernel_launcher.py:21: UserWarning: Nonpositive time to parent (-5.0) encountered in batch 210 for cell AGTGGGACATTCCTGC-b01\n",
      "/home/aden/anaconda3/envs/lineageOT/lib/python3.6/site-packages/ipykernel_launcher.py:21: UserWarning: Nonpositive time to parent (-5.0) encountered in batch 210 for cell ATCATCTGTTATTCTC-r17\n",
      "/home/aden/anaconda3/envs/lineageOT/lib/python3.6/site-packages/ipykernel_launcher.py:21: UserWarning: Nonpositive time to parent (-30.0) encountered in batch 210 for cell CAAGATCGTCTCCCTA-300.1.1\n",
      "/home/aden/anaconda3/envs/lineageOT/lib/python3.6/site-packages/ipykernel_launcher.py:21: UserWarning: Nonpositive time to parent (-11.0) encountered in batch 210 for cell CAAGTTGCATCAGTAC-b01\n",
      "/home/aden/anaconda3/envs/lineageOT/lib/python3.6/site-packages/ipykernel_launcher.py:21: UserWarning: Nonpositive time to parent (-20.0) encountered in batch 210 for cell CACAAACTCGGATGTT-b01\n",
      "/home/aden/anaconda3/envs/lineageOT/lib/python3.6/site-packages/ipykernel_launcher.py:21: UserWarning: Nonpositive time to parent (-11.0) encountered in batch 210 for cell CACCACTGTCATCCCT-400.2.1\n",
      "/home/aden/anaconda3/envs/lineageOT/lib/python3.6/site-packages/ipykernel_launcher.py:21: UserWarning: Nonpositive time to parent (-30.0) encountered in batch 210 for cell CAGGTGCCATTCCTCG-400.2.1\n",
      "/home/aden/anaconda3/envs/lineageOT/lib/python3.6/site-packages/ipykernel_launcher.py:21: UserWarning: Nonpositive time to parent (-30.0) encountered in batch 210 for cell CATATTCGTGAGGCTA-300.1.2\n",
      "/home/aden/anaconda3/envs/lineageOT/lib/python3.6/site-packages/ipykernel_launcher.py:21: UserWarning: Nonpositive time to parent (-20.0) encountered in batch 210 for cell CATCAAGAGTGGGTTG-300.1.3\n",
      "/home/aden/anaconda3/envs/lineageOT/lib/python3.6/site-packages/ipykernel_launcher.py:21: UserWarning: Nonpositive time to parent (0.0) encountered in batch 210 for cell CATCCACGTCGCATCG-b01\n",
      "/home/aden/anaconda3/envs/lineageOT/lib/python3.6/site-packages/ipykernel_launcher.py:21: UserWarning: Nonpositive time to parent (-5.0) encountered in batch 210 for cell CATGACACAAGGACTG-r17\n",
      "/home/aden/anaconda3/envs/lineageOT/lib/python3.6/site-packages/ipykernel_launcher.py:21: UserWarning: Nonpositive time to parent (-5.0) encountered in batch 210 for cell CCTACACAGCGTTGCC-400.2.2\n",
      "/home/aden/anaconda3/envs/lineageOT/lib/python3.6/site-packages/ipykernel_launcher.py:21: UserWarning: Nonpositive time to parent (0.0) encountered in batch 210 for cell CGAACATGTCCGAAGA-400.2.3\n",
      "/home/aden/anaconda3/envs/lineageOT/lib/python3.6/site-packages/ipykernel_launcher.py:21: UserWarning: Nonpositive time to parent (-30.0) encountered in batch 210 for cell CGAATGTCAGCTGGCT-300.1.2\n",
      "/home/aden/anaconda3/envs/lineageOT/lib/python3.6/site-packages/ipykernel_launcher.py:21: UserWarning: Nonpositive time to parent (-22.0) encountered in batch 210 for cell CGACCTTGTACAGTGG-b02\n",
      "/home/aden/anaconda3/envs/lineageOT/lib/python3.6/site-packages/ipykernel_launcher.py:21: UserWarning: Nonpositive time to parent (-15.0) encountered in batch 210 for cell CGCGTTTTCGGTCTAA-300.1.2\n",
      "/home/aden/anaconda3/envs/lineageOT/lib/python3.6/site-packages/ipykernel_launcher.py:21: UserWarning: Nonpositive time to parent (-30.0) encountered in batch 210 for cell CGGAGCTCACAACGCC-r17\n",
      "/home/aden/anaconda3/envs/lineageOT/lib/python3.6/site-packages/ipykernel_launcher.py:21: UserWarning: Nonpositive time to parent (0.0) encountered in batch 210 for cell CGTCTACCACGCGAAA-300.1.2\n",
      "/home/aden/anaconda3/envs/lineageOT/lib/python3.6/site-packages/ipykernel_launcher.py:21: UserWarning: Nonpositive time to parent (0.0) encountered in batch 210 for cell CTACGTCCACATGTGT-300.1.2\n",
      "/home/aden/anaconda3/envs/lineageOT/lib/python3.6/site-packages/ipykernel_launcher.py:21: UserWarning: Nonpositive time to parent (0.0) encountered in batch 210 for cell CTCAGAATCGCCATAA-400.2.2\n",
      "/home/aden/anaconda3/envs/lineageOT/lib/python3.6/site-packages/ipykernel_launcher.py:21: UserWarning: Nonpositive time to parent (-5.0) encountered in batch 210 for cell CTCGTACCAGCAGTTT-b02\n",
      "/home/aden/anaconda3/envs/lineageOT/lib/python3.6/site-packages/ipykernel_launcher.py:21: UserWarning: Nonpositive time to parent (-20.0) encountered in batch 210 for cell CTCTAATTCAGCACAT-300.1.1\n",
      "/home/aden/anaconda3/envs/lineageOT/lib/python3.6/site-packages/ipykernel_launcher.py:21: UserWarning: Nonpositive time to parent (-5.0) encountered in batch 210 for cell CTCTACGCATCTCCCA-400.2.3\n",
      "/home/aden/anaconda3/envs/lineageOT/lib/python3.6/site-packages/ipykernel_launcher.py:21: UserWarning: Nonpositive time to parent (-30.0) encountered in batch 210 for cell CTGAAACCAGTCGATT-400.2.3\n",
      "/home/aden/anaconda3/envs/lineageOT/lib/python3.6/site-packages/ipykernel_launcher.py:21: UserWarning: Nonpositive time to parent (-30.0) encountered in batch 210 for cell CTGCCTACATGTTGAC-400.2.3\n",
      "/home/aden/anaconda3/envs/lineageOT/lib/python3.6/site-packages/ipykernel_launcher.py:21: UserWarning: Nonpositive time to parent (0.0) encountered in batch 210 for cell CTTAGGATCCTTTACA-400.2.3\n",
      "/home/aden/anaconda3/envs/lineageOT/lib/python3.6/site-packages/ipykernel_launcher.py:21: UserWarning: Nonpositive time to parent (-11.0) encountered in batch 210 for cell GACACGCTCGTACGGC-b01\n",
      "/home/aden/anaconda3/envs/lineageOT/lib/python3.6/site-packages/ipykernel_launcher.py:21: UserWarning: Nonpositive time to parent (-5.0) encountered in batch 210 for cell GACCAATCATAGACTC-b01\n",
      "/home/aden/anaconda3/envs/lineageOT/lib/python3.6/site-packages/ipykernel_launcher.py:21: UserWarning: Nonpositive time to parent (0.0) encountered in batch 210 for cell GATTCAGAGACCCACC-400.2.1\n",
      "/home/aden/anaconda3/envs/lineageOT/lib/python3.6/site-packages/ipykernel_launcher.py:21: UserWarning: Nonpositive time to parent (-11.0) encountered in batch 210 for cell GCACATAGTCAGTGGA-b01\n",
      "/home/aden/anaconda3/envs/lineageOT/lib/python3.6/site-packages/ipykernel_launcher.py:21: UserWarning: Nonpositive time to parent (-20.0) encountered in batch 210 for cell GCGCAACGTGTGCCTG-b02\n",
      "/home/aden/anaconda3/envs/lineageOT/lib/python3.6/site-packages/ipykernel_launcher.py:21: UserWarning: Nonpositive time to parent (-30.0) encountered in batch 210 for cell GCTGCAGGTCATCCCT-300.1.1\n",
      "/home/aden/anaconda3/envs/lineageOT/lib/python3.6/site-packages/ipykernel_launcher.py:21: UserWarning: Nonpositive time to parent (-35.0) encountered in batch 210 for cell GCTGCTTTCGTTTAGG-400.2.1\n",
      "/home/aden/anaconda3/envs/lineageOT/lib/python3.6/site-packages/ipykernel_launcher.py:21: UserWarning: Nonpositive time to parent (-5.0) encountered in batch 210 for cell GGCAATTAGCTATGCT-b01\n",
      "/home/aden/anaconda3/envs/lineageOT/lib/python3.6/site-packages/ipykernel_launcher.py:21: UserWarning: Nonpositive time to parent (-5.0) encountered in batch 210 for cell GGCCGATAGGTGCTTT-400.2.2\n",
      "/home/aden/anaconda3/envs/lineageOT/lib/python3.6/site-packages/ipykernel_launcher.py:21: UserWarning: Nonpositive time to parent (0.0) encountered in batch 210 for cell GGCGACTTCCCTAATT-300.1.1\n",
      "/home/aden/anaconda3/envs/lineageOT/lib/python3.6/site-packages/ipykernel_launcher.py:21: UserWarning: Nonpositive time to parent (-11.0) encountered in batch 210 for cell GGGAGATTCCACTGGG-300.1.3\n",
      "/home/aden/anaconda3/envs/lineageOT/lib/python3.6/site-packages/ipykernel_launcher.py:21: UserWarning: Nonpositive time to parent (-30.0) encountered in batch 210 for cell GGGTCTGGTCCGACGT-400.2.3\n",
      "/home/aden/anaconda3/envs/lineageOT/lib/python3.6/site-packages/ipykernel_launcher.py:21: UserWarning: Nonpositive time to parent (0.0) encountered in batch 210 for cell GGGTTGCAGGCAATTA-300.1.1\n",
      "/home/aden/anaconda3/envs/lineageOT/lib/python3.6/site-packages/ipykernel_launcher.py:21: UserWarning: Nonpositive time to parent (-5.0) encountered in batch 210 for cell GTACTCCTCTTTAGTC-400.2.1\n",
      "/home/aden/anaconda3/envs/lineageOT/lib/python3.6/site-packages/ipykernel_launcher.py:21: UserWarning: Nonpositive time to parent (-30.0) encountered in batch 210 for cell GTAGGCCTCAGGCAAG-400.2.2\n",
      "/home/aden/anaconda3/envs/lineageOT/lib/python3.6/site-packages/ipykernel_launcher.py:21: UserWarning: Nonpositive time to parent (-5.0) encountered in batch 210 for cell GTCACAAAGCAGCCTC-b02\n",
      "/home/aden/anaconda3/envs/lineageOT/lib/python3.6/site-packages/ipykernel_launcher.py:21: UserWarning: Nonpositive time to parent (-5.0) encountered in batch 210 for cell GTCTTCGCATGTCCTC-b01\n",
      "/home/aden/anaconda3/envs/lineageOT/lib/python3.6/site-packages/ipykernel_launcher.py:21: UserWarning: Nonpositive time to parent (-11.0) encountered in batch 210 for cell GTGAAGGAGTACGACG-r17\n",
      "/home/aden/anaconda3/envs/lineageOT/lib/python3.6/site-packages/ipykernel_launcher.py:21: UserWarning: Nonpositive time to parent (-11.0) encountered in batch 210 for cell GTTCATTGTCATTAGC-r17\n",
      "/home/aden/anaconda3/envs/lineageOT/lib/python3.6/site-packages/ipykernel_launcher.py:21: UserWarning: Nonpositive time to parent (-11.0) encountered in batch 210 for cell TACGGGCAGATAGGAG-300.1.1\n",
      "/home/aden/anaconda3/envs/lineageOT/lib/python3.6/site-packages/ipykernel_launcher.py:21: UserWarning: Nonpositive time to parent (-30.0) encountered in batch 210 for cell TACGGGCCAATAGAGT-300.1.2\n",
      "/home/aden/anaconda3/envs/lineageOT/lib/python3.6/site-packages/ipykernel_launcher.py:21: UserWarning: Nonpositive time to parent (-11.0) encountered in batch 210 for cell TACTTACGTCAGGACA-r17\n",
      "/home/aden/anaconda3/envs/lineageOT/lib/python3.6/site-packages/ipykernel_launcher.py:21: UserWarning: Nonpositive time to parent (-11.0) encountered in batch 210 for cell TAGAGCTAGTGTACTC-b02\n",
      "/home/aden/anaconda3/envs/lineageOT/lib/python3.6/site-packages/ipykernel_launcher.py:21: UserWarning: Nonpositive time to parent (-15.0) encountered in batch 210 for cell TAGTTGGAGTAGATGT-b01\n",
      "/home/aden/anaconda3/envs/lineageOT/lib/python3.6/site-packages/ipykernel_launcher.py:21: UserWarning: Nonpositive time to parent (-20.0) encountered in batch 210 for cell TCAGATGTCGAATGGG-b01\n",
      "/home/aden/anaconda3/envs/lineageOT/lib/python3.6/site-packages/ipykernel_launcher.py:21: UserWarning: Nonpositive time to parent (-5.0) encountered in batch 210 for cell TCGTAGATCTTTAGTC-300.1.2\n",
      "/home/aden/anaconda3/envs/lineageOT/lib/python3.6/site-packages/ipykernel_launcher.py:21: UserWarning: Nonpositive time to parent (-15.0) encountered in batch 210 for cell TCTGAGAAGGATTCGG-300.1.2\n",
      "/home/aden/anaconda3/envs/lineageOT/lib/python3.6/site-packages/ipykernel_launcher.py:21: UserWarning: Nonpositive time to parent (-20.0) encountered in batch 210 for cell TGACGGCGTCCGAAGA-r17\n",
      "/home/aden/anaconda3/envs/lineageOT/lib/python3.6/site-packages/ipykernel_launcher.py:21: UserWarning: Nonpositive time to parent (-5.0) encountered in batch 210 for cell TGCCCTACAAGTTGTC-b01\n",
      "/home/aden/anaconda3/envs/lineageOT/lib/python3.6/site-packages/ipykernel_launcher.py:21: UserWarning: Nonpositive time to parent (-5.0) encountered in batch 210 for cell TGGCGCATCATGTCTT-b01\n",
      "/home/aden/anaconda3/envs/lineageOT/lib/python3.6/site-packages/ipykernel_launcher.py:21: UserWarning: Nonpositive time to parent (-30.0) encountered in batch 210 for cell TGGTTAGAGAGTAATC-400.2.2\n",
      "/home/aden/anaconda3/envs/lineageOT/lib/python3.6/site-packages/ipykernel_launcher.py:21: UserWarning: Nonpositive time to parent (-5.0) encountered in batch 210 for cell TGGTTAGAGGGTTTCT-300.1.2\n",
      "/home/aden/anaconda3/envs/lineageOT/lib/python3.6/site-packages/ipykernel_launcher.py:21: UserWarning: Nonpositive time to parent (-5.0) encountered in batch 210 for cell TGGTTAGAGTCAAGGC-300.1.2\n",
      "/home/aden/anaconda3/envs/lineageOT/lib/python3.6/site-packages/ipykernel_launcher.py:21: UserWarning: Nonpositive time to parent (0.0) encountered in batch 210 for cell TTATGCTAGCTCTCGG-300.1.2\n",
      "/home/aden/anaconda3/envs/lineageOT/lib/python3.6/site-packages/ipykernel_launcher.py:21: UserWarning: Nonpositive time to parent (-30.0) encountered in batch 210 for cell TTGCCGTGTAAGAGGA-300.1.2\n",
      "/home/aden/anaconda3/envs/lineageOT/lib/python3.6/site-packages/ipykernel_launcher.py:21: UserWarning: Nonpositive time to parent (-30.0) encountered in batch 210 for cell TTGCGTCTCAACACTG-300.1.1\n",
      "/home/aden/anaconda3/envs/lineageOT/lib/python3.6/site-packages/ipykernel_launcher.py:21: UserWarning: Nonpositive time to parent (-11.0) encountered in batch 210 for cell TTGGAACTCGGTGTCG-b01\n",
      "/home/aden/anaconda3/envs/lineageOT/lib/python3.6/site-packages/ipykernel_launcher.py:21: UserWarning: Nonpositive time to parent (0.0) encountered in batch 210 for cell TTGGCAACAGCGAACA-300.1.1\n",
      "/home/aden/anaconda3/envs/lineageOT/lib/python3.6/site-packages/ipykernel_launcher.py:21: UserWarning: Nonpositive time to parent (-11.0) encountered in batch 210 for cell TTGTAGGGTAATCACC-400.2.3\n"
     ]
    },
    {
     "name": "stderr",
     "output_type": "stream",
     "text": [
      "/home/aden/anaconda3/envs/lineageOT/lib/python3.6/site-packages/ipykernel_launcher.py:21: UserWarning: Nonpositive time to parent (-10.0) encountered in batch 270 for cell CACACAAAGGGAACGG-300.1.2\n",
      "/home/aden/anaconda3/envs/lineageOT/lib/python3.6/site-packages/ipykernel_launcher.py:21: UserWarning: Nonpositive time to parent (-20.0) encountered in batch 270 for cell CCTAAAGAGGGCTCTC-400.2.1\n"
     ]
    },
    {
     "name": "stdout",
     "output_type": "stream",
     "text": [
      "CPU times: user 2.11 s, sys: 16 ms, total: 2.13 s\n",
      "Wall time: 2.12 s\n"
     ]
    }
   ],
   "source": [
    "%%time\n",
    "trees_by_batch = [create_lineage_tree(adata, batch_time) for batch_time in batches]"
   ]
  },
  {
   "cell_type": "code",
   "execution_count": 15,
   "metadata": {},
   "outputs": [
    {
     "data": {
      "text/plain": [
       "{75: (0, 1),\n",
       " 130: (14, 1),\n",
       " 170: (151, 14),\n",
       " 210: (755, 79),\n",
       " 270: (1215, 2),\n",
       " 330: (1534, 0),\n",
       " 390: (678, 0),\n",
       " 450: (463, 0),\n",
       " 510: (206, 0),\n",
       " 580: (2, 0),\n",
       " 650: (5, 0),\n",
       " 700: (3, 0)}"
      ]
     },
     "execution_count": 15,
     "metadata": {},
     "output_type": "execute_result"
    }
   ],
   "source": [
    "# Counting the number of cells kept vs. filtered out\n",
    "# for having a measurement time at or before their\n",
    "# reference birth time\n",
    "{batch_time : (len(t[1]), len(t[2])) for t,batch_time in zip(trees_by_batch, batches)}"
   ]
  },
  {
   "cell_type": "markdown",
   "metadata": {},
   "source": [
    "#### Making a ground truth coupling"
   ]
  },
  {
   "cell_type": "code",
   "execution_count": 16,
   "metadata": {},
   "outputs": [],
   "source": [
    "def is_ancestor(late_cell, early_cell):\n",
    "    if not late_cell[-1] in 'aplrdvx':\n",
    "        warnings.warn('Ancestor checking not implemented for cell ' + late_cell + ' yet.')\n",
    "        return\n",
    "    else:\n",
    "        return early_cell in late_cell"
   ]
  },
  {
   "cell_type": "code",
   "execution_count": 17,
   "metadata": {},
   "outputs": [],
   "source": [
    "def ground_truth_coupling(early_tree, late_tree, early_cells, late_cells):\n",
    "    n_early = len(early_cells)\n",
    "    n_late = len(late_cells)\n",
    "    coupling = np.zeros([n_early, n_late])\n",
    "    for c_early, i in zip(early_cells, range(n_early)):\n",
    "        for c_late, j in zip(late_cells, range(n_late)):\n",
    "            if is_ancestor(late_tree.nodes[c_late]['name'],\n",
    "                           early_tree.nodes[c_early]['name']):\n",
    "                coupling[i, j] = 1\n",
    "    \n",
    "    # filter out zero rows and columns\n",
    "    kept_early_cells = np.where(np.sum(coupling, 1) > 0)[0]\n",
    "    kept_late_cells = np.where(np.sum(coupling, 0) > 0)[0]\n",
    "    coupling = coupling[np.ix_(kept_early_cells, kept_late_cells)]\n",
    "    \n",
    "    \n",
    "    # normalize to uniform marginal on late cells\n",
    "    coupling = np.dot(coupling, np.diag(np.sum(coupling, 0)**(-1)))/len(kept_late_cells)\n",
    "    \n",
    "    return coupling, kept_early_cells, kept_late_cells\n",
    "    "
   ]
  },
  {
   "cell_type": "code",
   "execution_count": 18,
   "metadata": {},
   "outputs": [],
   "source": [
    "couplings = {}"
   ]
  },
  {
   "cell_type": "code",
   "execution_count": 19,
   "metadata": {},
   "outputs": [],
   "source": [
    "# Available base times: 170, 210, 270, 330, 390, 450\n",
    "\n",
    "# The rest of the script only works with the coupling between\n",
    "# early_batch_time and late_batch time\n",
    "early_batch_time = 210 \n",
    "late_batch_time = 270 \n",
    "early_batch_index = np.where(batches == early_batch_time)[0][0]\n",
    "late_batch_index = np.where(batches == late_batch_time)[0][0]\n",
    "early_cells = trees_by_batch[early_batch_index][1]\n",
    "late_cells = trees_by_batch[late_batch_index][1]"
   ]
  },
  {
   "cell_type": "code",
   "execution_count": 20,
   "metadata": {},
   "outputs": [
    {
     "name": "stdout",
     "output_type": "stream",
     "text": [
      "(210, 270)\n",
      "CPU times: user 1.19 s, sys: 4 ms, total: 1.2 s\n",
      "Wall time: 1.15 s\n"
     ]
    }
   ],
   "source": [
    "%%time\n",
    "print((batches[early_batch_index], batches[late_batch_index]))\n",
    "couplings['true'], kept_early_cells_index, kept_late_cells_index = ground_truth_coupling(trees_by_batch[early_batch_index][0],\n",
    "                                                                             trees_by_batch[late_batch_index][0],\n",
    "                                                                             trees_by_batch[early_batch_index][1],\n",
    "                                                                             trees_by_batch[late_batch_index][1])"
   ]
  },
  {
   "cell_type": "code",
   "execution_count": 21,
   "metadata": {},
   "outputs": [],
   "source": [
    "early_marginal = np.sum(couplings['true'], 1)\n",
    "late_marginal = np.sum(couplings['true'], 0)"
   ]
  },
  {
   "cell_type": "code",
   "execution_count": 22,
   "metadata": {},
   "outputs": [],
   "source": [
    "def remove_unlisted_leaves(tree, kept_leaves, max_depth = 10):\n",
    "    \"\"\"\n",
    "    Removes all leaves not listed in kept_leaves from the tree\n",
    "    \"\"\"\n",
    "    \n",
    "    for i in range(max_depth):\n",
    "        all_leaves = lineageot.inference.get_leaves(tree, include_root = False)\n",
    "        for leaf in all_leaves:\n",
    "            if not leaf in kept_leaves:\n",
    "                tree.remove_node(leaf)\n",
    "                \n",
    "                \n",
    "    return "
   ]
  },
  {
   "cell_type": "markdown",
   "metadata": {},
   "source": [
    "#### LineageOT coupling"
   ]
  },
  {
   "cell_type": "code",
   "execution_count": 23,
   "metadata": {},
   "outputs": [],
   "source": [
    "lineageOT_tree = copy.deepcopy(trees_by_batch[late_batch_index][0])\n",
    "\n",
    "\n"
   ]
  },
  {
   "cell_type": "code",
   "execution_count": 24,
   "metadata": {},
   "outputs": [],
   "source": [
    "remove_unlisted_leaves(lineageOT_tree,\n",
    "                       np.array(trees_by_batch[late_batch_index][1])[kept_late_cells_index], max_depth = 15)\n"
   ]
  },
  {
   "cell_type": "code",
   "execution_count": 25,
   "metadata": {},
   "outputs": [
    {
     "data": {
      "text/plain": [
       "<networkx.classes.digraph.DiGraph at 0x7f83ea13e940>"
      ]
     },
     "execution_count": 25,
     "metadata": {},
     "output_type": "execute_result"
    }
   ],
   "source": [
    "lineageot.inference.add_nodes_at_time(lineageOT_tree, early_batch_time)\n",
    "lineageot.inference.add_times_to_edges(lineageOT_tree)"
   ]
  },
  {
   "cell_type": "code",
   "execution_count": 26,
   "metadata": {},
   "outputs": [],
   "source": [
    "observed_nodes = trees_by_batch[late_batch_index][1]\n",
    "lineageot.inference.add_conditional_means_and_variances(lineageOT_tree, observed_nodes)"
   ]
  },
  {
   "cell_type": "code",
   "execution_count": 27,
   "metadata": {},
   "outputs": [],
   "source": [
    "ancestor_info = lineageot.inference.get_ancestor_data(lineageOT_tree, early_batch_time)\n"
   ]
  },
  {
   "cell_type": "code",
   "execution_count": 28,
   "metadata": {},
   "outputs": [],
   "source": [
    "# Optimal transport coupling"
   ]
  },
  {
   "cell_type": "code",
   "execution_count": 29,
   "metadata": {},
   "outputs": [],
   "source": [
    "lineage_rna_cost = ot.utils.dist(adata[early_cells].obsm['X_pca'],\n",
    "                                 ancestor_info[0])@np.diag(ancestor_info[1]**(-1))\n",
    "rna_cost = ot.utils.dist(adata[early_cells].obsm['X_pca'],\n",
    "                         adata[late_cells].obsm['X_pca'])\n",
    "\n",
    "late_time_rna_cost = ot.utils.dist(adata[late_cells].obsm['X_pca'],\n",
    "                                   adata[late_cells].obsm['X_pca'])\n",
    "# note early_time_rna_cost here is different from in the simulation evaluation because we don't have\n",
    "# a single true ancestor for each late cell\n",
    "early_time_rna_cost = ot.utils.dist(adata[early_cells].obsm['X_pca'],\n",
    "                                    adata[early_cells].obsm['X_pca'])\n",
    "\n",
    "\n",
    "\n",
    "lineage_rna_cost = lineage_rna_cost[kept_early_cells_index, :]\n",
    "rna_cost = rna_cost[np.ix_(kept_early_cells_index, kept_late_cells_index)]\n",
    "early_time_rna_cost = early_time_rna_cost[np.ix_(kept_early_cells_index, kept_early_cells_index)]\n",
    "late_time_rna_cost = late_time_rna_cost[np.ix_(kept_late_cells_index, kept_late_cells_index)]"
   ]
  },
  {
   "cell_type": "code",
   "execution_count": 30,
   "metadata": {},
   "outputs": [
    {
     "data": {
      "text/plain": [
       "[(740, 1024), (740, 1024), (740, 740), (1024, 1024)]"
      ]
     },
     "execution_count": 30,
     "metadata": {},
     "output_type": "execute_result"
    }
   ],
   "source": [
    "# checking that shapes match where they should\n",
    "[x.shape for x in [lineage_rna_cost, rna_cost, early_time_rna_cost, late_time_rna_cost]]"
   ]
  },
  {
   "cell_type": "code",
   "execution_count": 31,
   "metadata": {},
   "outputs": [
    {
     "name": "stdout",
     "output_type": "stream",
     "text": [
      "Working on couplings for epsilon = 0.1\n",
      "Working on couplings for epsilon = 0.5\n",
      "Working on couplings for epsilon = 1.0\n",
      "Working on couplings for epsilon = 2.0\n",
      "Working on couplings for epsilon = 2.5\n",
      "Working on couplings for epsilon = 3.0\n",
      "Working on couplings for epsilon = 5.0\n",
      "Working on couplings for epsilon = 10.0\n",
      "Working on couplings for epsilon = 20.0\n",
      "Working on couplings for epsilon = 50.0\n",
      "Working on couplings for epsilon = 100.0\n",
      "Working on couplings for epsilon = 200.0\n",
      "Working on couplings for epsilon = 300.0\n"
     ]
    }
   ],
   "source": [
    "epsilons = np.array([0.1, 0.5,\n",
    "                     1,\n",
    "                     2,\n",
    "                     2.5,\n",
    "                     3, 5, 10, 20, 50, 100, 200, 300\n",
    "                    ])*1\n",
    "\n",
    "\n",
    "couplings['OT'] = ot.emd([],[],rna_cost)\n",
    "couplings['lineageOT'] = ot.emd([], [], lineage_rna_cost)\n",
    "for e in epsilons:\n",
    "    print(\"Working on couplings for epsilon = \" + str(e))\n",
    "    if e < 1:\n",
    "        f = ot.bregman.sinkhorn_epsilon_scaling\n",
    "    else:\n",
    "        f = ot.sinkhorn\n",
    "    couplings['entropic rna ' + str(e)] = f(early_marginal,late_marginal,rna_cost, e)\n",
    "    couplings['lineage entropic rna ' + str(e)] = f(early_marginal, late_marginal, lineage_rna_cost, e*np.mean(ancestor_info[1]**(-1)))\n"
   ]
  },
  {
   "cell_type": "code",
   "execution_count": 32,
   "metadata": {},
   "outputs": [],
   "source": [
    "# Removing couplings computed incorrectly with numerical errors (likely from too small epsilon)\n",
    "improper_couplings = [key for key in couplings if abs(np.sum(couplings[key])-1) > 0.01]\n",
    "\n",
    "for key in improper_couplings:\n",
    "    print(key)\n",
    "    couplings[key] = np.nan*np.ones(couplings[key].shape)"
   ]
  },
  {
   "cell_type": "markdown",
   "metadata": {},
   "source": [
    "### Evaluation of fitted couplings"
   ]
  },
  {
   "cell_type": "code",
   "execution_count": 33,
   "metadata": {},
   "outputs": [],
   "source": [
    "def print_metrics(couplings, cost_func, cost_func_name, log = False):\n",
    "    \n",
    "    l = max([len(c) for c in couplings.keys()])\n",
    "    print(cost_func_name)\n",
    "    for c in couplings.keys():\n",
    "        loss = cost_func(couplings[c])\n",
    "        if log:\n",
    "            loss = np.log(loss)\n",
    "        print(c.ljust(l), \": \", \"{:.3f}\".format(loss))\n",
    "    print(\"\\n\")\n",
    "    return\n",
    "\n",
    "\n",
    "def plot_metrics(couplings, cost_func, cost_func_name, epsilons, scale = 1, log = False):\n",
    "    zero_offset = epsilons[0]/2\n",
    "    all_ys = []\n",
    "    if \"lineageOT\" in couplings.keys():\n",
    "        ys = []\n",
    "        for c, e in zip([couplings['lineage entropic rna ' + str(e)] for e in epsilons], epsilons):\n",
    "            print(\"Working on cost function for LineageOT coupling with epsilon = \" + str(e))\n",
    "            ys.append(cost_func(c))\n",
    "            print(\"Finished LineageOT coupling with epsilon = \" + str(e))\n",
    "            print(\"Cost: \" + str(ys[-1]) + \"\\n\")\n",
    "        plt.plot(epsilons, ys/scale, label = \"LineageOT, true tree\")\n",
    "        all_ys.append(ys)\n",
    "        #plt.scatter([zero_offset], [cost_func(couplings[\"lineageOT\"])])\n",
    "    if \"OT\" in couplings.keys():\n",
    "        ys = []\n",
    "        for c, e in zip([couplings['entropic rna ' + str(e)] for e in epsilons], epsilons):\n",
    "            print(\"Working on cost function for OT coupling with epsilon = \" + str(e))\n",
    "            ys.append(cost_func(c))\n",
    "            print(\"Finished OT coupling with epsilon = \" + str(e))\n",
    "            print(\"Cost: \" + str(ys[-1]) + \"\\n\")\n",
    "        plt.plot(epsilons, ys/scale, label = \"Entropic OT\")\n",
    "        all_ys.append(ys)\n",
    "        #plt.scatter([zero_offset], [cost_func(couplings[\"OT\"])])\n",
    "\n",
    "    \n",
    "    plt.ylabel(cost_func_name)\n",
    "    plt.xlabel(\"Entropy parameter\")\n",
    "    plt.xscale(\"log\")\n",
    "    plt.xlim([epsilons[0], epsilons[-1]])\n",
    "    plt.ylim([0,None])\n",
    "    plt.legend()\n",
    "    return all_ys\n",
    "\n"
   ]
  },
  {
   "cell_type": "code",
   "execution_count": 34,
   "metadata": {},
   "outputs": [],
   "source": [
    "couplings['independent'] = np.outer(early_marginal, late_marginal)"
   ]
  },
  {
   "cell_type": "code",
   "execution_count": 35,
   "metadata": {},
   "outputs": [
    {
     "name": "stdout",
     "output_type": "stream",
     "text": [
      "96.81872690439816\n",
      "113.41155678814738\n",
      "CPU times: user 18.3 s, sys: 20 ms, total: 18.3 s\n",
      "Wall time: 17.7 s\n"
     ]
    }
   ],
   "source": [
    "%%time\n",
    "ind_early_cost = lineageot.inference.OT_cost(lineageot.evaluation.expand_coupling(couplings['independent'].T, couplings['true'].T, early_time_rna_cost ).T\n",
    "                                                 , early_time_rna_cost)\n",
    "print(ind_early_cost)\n",
    "\n",
    "ind_late_cost = lineageot.inference.OT_cost(lineageot.evaluation.expand_coupling(couplings['independent'], couplings['true'], late_time_rna_cost ).T\n",
    "                                                 , late_time_rna_cost)\n",
    "print(ind_late_cost)"
   ]
  },
  {
   "cell_type": "code",
   "execution_count": 36,
   "metadata": {},
   "outputs": [
    {
     "name": "stdout",
     "output_type": "stream",
     "text": [
      "105.1924296992997\n",
      "120.00814626806672\n",
      "CPU times: user 13 s, sys: 28 ms, total: 13.1 s\n",
      "Wall time: 11.9 s\n"
     ]
    }
   ],
   "source": [
    "%%time\n",
    "ot_early_cost = lineageot.inference.OT_cost(lineageot.evaluation.expand_coupling(couplings['OT'].T, couplings['true'].T, early_time_rna_cost ).T\n",
    "                                                 , early_time_rna_cost)\n",
    "print(ot_early_cost)\n",
    "ot_late_cost = lineageot.inference.OT_cost(lineageot.evaluation.expand_coupling(couplings['OT'], couplings['true'], late_time_rna_cost ).T\n",
    "                                                 , late_time_rna_cost)\n",
    "print(ot_late_cost)"
   ]
  },
  {
   "cell_type": "code",
   "execution_count": 37,
   "metadata": {},
   "outputs": [
    {
     "name": "stdout",
     "output_type": "stream",
     "text": [
      "102.89165769088184\n",
      "122.31720584976263\n",
      "CPU times: user 13.2 s, sys: 28 ms, total: 13.2 s\n",
      "Wall time: 12.1 s\n"
     ]
    }
   ],
   "source": [
    "%%time\n",
    "lineageOT_early_cost = lineageot.inference.OT_cost(lineageot.evaluation.expand_coupling(couplings['lineageOT'].T, couplings['true'].T, early_time_rna_cost ).T\n",
    "                                                 , early_time_rna_cost)\n",
    "print(lineageOT_early_cost)\n",
    "lineageOT_late_cost = lineageot.inference.OT_cost(lineageot.evaluation.expand_coupling(couplings['lineageOT'], couplings['true'], late_time_rna_cost ).T\n",
    "                                                 , late_time_rna_cost)\n",
    "print(lineageOT_late_cost)"
   ]
  },
  {
   "cell_type": "code",
   "execution_count": 38,
   "metadata": {
    "scrolled": true
   },
   "outputs": [
    {
     "name": "stdout",
     "output_type": "stream",
     "text": [
      "Working on cost function for LineageOT coupling with epsilon = 0.1\n",
      "Finished LineageOT coupling with epsilon = 0.1\n",
      "Cost: 52.65557454346154\n",
      "\n",
      "Working on cost function for LineageOT coupling with epsilon = 0.5\n",
      "Finished LineageOT coupling with epsilon = 0.5\n",
      "Cost: 50.40994069523075\n",
      "\n",
      "Working on cost function for LineageOT coupling with epsilon = 1.0\n",
      "Finished LineageOT coupling with epsilon = 1.0\n",
      "Cost: 47.808325760289165\n",
      "\n",
      "Working on cost function for LineageOT coupling with epsilon = 2.0\n",
      "Finished LineageOT coupling with epsilon = 2.0\n",
      "Cost: 44.13761475247741\n",
      "\n",
      "Working on cost function for LineageOT coupling with epsilon = 2.5\n",
      "Finished LineageOT coupling with epsilon = 2.5\n",
      "Cost: 42.95188974371057\n",
      "\n",
      "Working on cost function for LineageOT coupling with epsilon = 3.0\n",
      "Finished LineageOT coupling with epsilon = 3.0\n",
      "Cost: 42.100062828067166\n",
      "\n",
      "Working on cost function for LineageOT coupling with epsilon = 5.0\n",
      "Finished LineageOT coupling with epsilon = 5.0\n",
      "Cost: 41.3189673049437\n",
      "\n",
      "Working on cost function for LineageOT coupling with epsilon = 10.0\n",
      "Finished LineageOT coupling with epsilon = 10.0\n",
      "Cost: 48.71317004706998\n",
      "\n",
      "Working on cost function for LineageOT coupling with epsilon = 20.0\n",
      "Finished LineageOT coupling with epsilon = 20.0\n",
      "Cost: 67.75029523331372\n",
      "\n",
      "Working on cost function for LineageOT coupling with epsilon = 50.0\n",
      "Finished LineageOT coupling with epsilon = 50.0\n",
      "Cost: 93.89639902282511\n",
      "\n",
      "Working on cost function for LineageOT coupling with epsilon = 100.0\n",
      "Finished LineageOT coupling with epsilon = 100.0\n",
      "Cost: 104.66610929187863\n",
      "\n",
      "Working on cost function for LineageOT coupling with epsilon = 200.0\n",
      "Finished LineageOT coupling with epsilon = 200.0\n",
      "Cost: 109.3790296354286\n",
      "\n",
      "Working on cost function for LineageOT coupling with epsilon = 300.0\n",
      "Finished LineageOT coupling with epsilon = 300.0\n",
      "Cost: 110.80071823937611\n",
      "\n",
      "Working on cost function for OT coupling with epsilon = 0.1\n",
      "Finished OT coupling with epsilon = 0.1\n",
      "Cost: 75.22038807843734\n",
      "\n",
      "Working on cost function for OT coupling with epsilon = 0.5\n",
      "Finished OT coupling with epsilon = 0.5\n",
      "Cost: 74.06750640759492\n",
      "\n",
      "Working on cost function for OT coupling with epsilon = 1.0\n",
      "Finished OT coupling with epsilon = 1.0\n",
      "Cost: 72.71174896572302\n",
      "\n",
      "Working on cost function for OT coupling with epsilon = 2.0\n",
      "Finished OT coupling with epsilon = 2.0\n",
      "Cost: 69.91930730036083\n",
      "\n",
      "Working on cost function for OT coupling with epsilon = 2.5\n",
      "Finished OT coupling with epsilon = 2.5\n",
      "Cost: 68.5320950113115\n",
      "\n",
      "Working on cost function for OT coupling with epsilon = 3.0\n",
      "Finished OT coupling with epsilon = 3.0\n",
      "Cost: 67.22013796386442\n",
      "\n",
      "Working on cost function for OT coupling with epsilon = 5.0\n",
      "Finished OT coupling with epsilon = 5.0\n",
      "Cost: 63.124173144564786\n",
      "\n",
      "Working on cost function for OT coupling with epsilon = 10.0\n",
      "Finished OT coupling with epsilon = 10.0\n",
      "Cost: 60.1044853533005\n",
      "\n",
      "Working on cost function for OT coupling with epsilon = 20.0\n",
      "Finished OT coupling with epsilon = 20.0\n",
      "Cost: 68.46551674815197\n",
      "\n",
      "Working on cost function for OT coupling with epsilon = 50.0\n",
      "Finished OT coupling with epsilon = 50.0\n",
      "Cost: 92.22031578637007\n",
      "\n",
      "Working on cost function for OT coupling with epsilon = 100.0\n",
      "Finished OT coupling with epsilon = 100.0\n",
      "Cost: 103.484425666221\n",
      "\n",
      "Working on cost function for OT coupling with epsilon = 200.0\n",
      "Finished OT coupling with epsilon = 200.0\n",
      "Cost: 108.75866497936767\n",
      "\n",
      "Working on cost function for OT coupling with epsilon = 300.0\n",
      "Finished OT coupling with epsilon = 300.0\n",
      "Cost: 110.37998056022582\n",
      "\n",
      "CPU times: user 4min 25s, sys: 316 ms, total: 4min 25s\n",
      "Wall time: 4min 11s\n"
     ]
    },
    {
     "data": {
      "image/png": "[encoded data removed]",
      "text/plain": [
       "<Figure size 432x288 with 1 Axes>"
      ]
     },
     "metadata": {
      "needs_background": "light"
     },
     "output_type": "display_data"
    }
   ],
   "source": [
    "%%time\n",
    "late_time_errors = plot_metrics(couplings, lambda x:lineageot.inference.OT_cost(lineageot.evaluation.expand_coupling(x,\n",
    "                                                                                             couplings['true'], \n",
    "                                                                                             late_time_rna_cost)\n",
    "                                                 , late_time_rna_cost),\n",
    "                                'Normalized descendant error', \n",
    "                                epsilons,\n",
    "                                scale = ind_late_cost\n",
    "                               )"
   ]
  },
  {
   "cell_type": "code",
   "execution_count": 39,
   "metadata": {
    "scrolled": true
   },
   "outputs": [
    {
     "name": "stdout",
     "output_type": "stream",
     "text": [
      "Working on cost function for LineageOT coupling with epsilon = 0.1\n",
      "Finished LineageOT coupling with epsilon = 0.1\n",
      "Cost: 52.26748559526623\n",
      "\n",
      "Working on cost function for LineageOT coupling with epsilon = 0.5\n",
      "Finished LineageOT coupling with epsilon = 0.5\n",
      "Cost: 49.303868137332195\n",
      "\n",
      "Working on cost function for LineageOT coupling with epsilon = 1.0\n",
      "Finished LineageOT coupling with epsilon = 1.0\n",
      "Cost: 46.0330453241342\n",
      "\n",
      "Working on cost function for LineageOT coupling with epsilon = 2.0\n",
      "Finished LineageOT coupling with epsilon = 2.0\n",
      "Cost: 41.426640325979754\n",
      "\n",
      "Working on cost function for LineageOT coupling with epsilon = 2.5\n",
      "Finished LineageOT coupling with epsilon = 2.5\n",
      "Cost: 39.94043990554958\n",
      "\n",
      "Working on cost function for LineageOT coupling with epsilon = 3.0\n",
      "Finished LineageOT coupling with epsilon = 3.0\n",
      "Cost: 38.849555360914714\n",
      "\n",
      "Working on cost function for LineageOT coupling with epsilon = 5.0\n",
      "Finished LineageOT coupling with epsilon = 5.0\n",
      "Cost: 37.19391319328563\n",
      "\n",
      "Working on cost function for LineageOT coupling with epsilon = 10.0\n",
      "Finished LineageOT coupling with epsilon = 10.0\n",
      "Cost: 42.01521039429882\n",
      "\n",
      "Working on cost function for LineageOT coupling with epsilon = 20.0\n",
      "Finished LineageOT coupling with epsilon = 20.0\n",
      "Cost: 57.20117874375584\n",
      "\n",
      "Working on cost function for LineageOT coupling with epsilon = 50.0\n",
      "Finished LineageOT coupling with epsilon = 50.0\n",
      "Cost: 79.4454518780853\n",
      "\n",
      "Working on cost function for LineageOT coupling with epsilon = 100.0\n",
      "Finished LineageOT coupling with epsilon = 100.0\n",
      "Cost: 88.91571339657347\n",
      "\n",
      "Working on cost function for LineageOT coupling with epsilon = 200.0\n",
      "Finished LineageOT coupling with epsilon = 200.0\n",
      "Cost: 93.14226808732046\n",
      "\n",
      "Working on cost function for LineageOT coupling with epsilon = 300.0\n",
      "Finished LineageOT coupling with epsilon = 300.0\n",
      "Cost: 94.43010246988005\n",
      "\n",
      "Working on cost function for OT coupling with epsilon = 0.1\n",
      "Finished OT coupling with epsilon = 0.1\n",
      "Cost: 73.20596168382292\n",
      "\n",
      "Working on cost function for OT coupling with epsilon = 0.5\n",
      "Finished OT coupling with epsilon = 0.5\n",
      "Cost: 71.883529461542\n",
      "\n",
      "Working on cost function for OT coupling with epsilon = 1.0\n",
      "Finished OT coupling with epsilon = 1.0\n",
      "Cost: 70.27500998755826\n",
      "\n",
      "Working on cost function for OT coupling with epsilon = 2.0\n",
      "Finished OT coupling with epsilon = 2.0\n",
      "Cost: 66.97292815051715\n",
      "\n",
      "Working on cost function for OT coupling with epsilon = 2.5\n",
      "Finished OT coupling with epsilon = 2.5\n",
      "Cost: 65.37236278542302\n",
      "\n",
      "Working on cost function for OT coupling with epsilon = 3.0\n",
      "Finished OT coupling with epsilon = 3.0\n",
      "Cost: 63.879631803014746\n",
      "\n",
      "Working on cost function for OT coupling with epsilon = 5.0\n",
      "Finished OT coupling with epsilon = 5.0\n",
      "Cost: 59.14757476339749\n",
      "\n",
      "Working on cost function for OT coupling with epsilon = 10.0\n",
      "Finished OT coupling with epsilon = 10.0\n",
      "Cost: 54.60769014614661\n",
      "\n",
      "Working on cost function for OT coupling with epsilon = 20.0\n",
      "Finished OT coupling with epsilon = 20.0\n",
      "Cost: 59.97839553872116\n",
      "\n",
      "Working on cost function for OT coupling with epsilon = 50.0\n",
      "Finished OT coupling with epsilon = 50.0\n",
      "Cost: 78.76487160148895\n",
      "\n",
      "Working on cost function for OT coupling with epsilon = 100.0\n",
      "Finished OT coupling with epsilon = 100.0\n",
      "Cost: 88.23994616839721\n",
      "\n",
      "Working on cost function for OT coupling with epsilon = 200.0\n",
      "Finished OT coupling with epsilon = 200.0\n",
      "Cost: 92.79349801018598\n",
      "\n",
      "Working on cost function for OT coupling with epsilon = 300.0\n",
      "Finished OT coupling with epsilon = 300.0\n",
      "Cost: 94.19490589303435\n",
      "\n",
      "CPU times: user 3min 6s, sys: 336 ms, total: 3min 7s\n",
      "Wall time: 2min 53s\n"
     ]
    },
    {
     "data": {
      "image/png": "[encoded data removed]",
      "text/plain": [
       "<Figure size 432x288 with 1 Axes>"
      ]
     },
     "metadata": {
      "needs_background": "light"
     },
     "output_type": "display_data"
    }
   ],
   "source": [
    "%%time\n",
    "early_time_errors = plot_metrics(couplings, lambda x:lineageot.inference.OT_cost(lineageot.evaluation.expand_coupling(x.T,\n",
    "                                                                                             couplings['true'].T, \n",
    "                                                                                             early_time_rna_cost ).T\n",
    "                                                 , early_time_rna_cost),\n",
    "                                'Normalized ancestor error', \n",
    "                                epsilons,\n",
    "                                scale = ind_early_cost\n",
    "                               )"
   ]
  },
  {
   "cell_type": "code",
   "execution_count": 40,
   "metadata": {},
   "outputs": [],
   "source": [
    "def plot_precomputed_metrics(all_ys, cost_func_name, epsilons, scale = 1, log = False, label_font_size = 18, tick_font_size = 12):\n",
    "        \n",
    "    plt.plot(epsilons, all_ys[0]/scale, label = \"LineageOT, true tree\")\n",
    "\n",
    "    plt.plot(epsilons, all_ys[1]/scale, label = \"Entropic OT\")\n",
    "        \n",
    "    \n",
    "    plt.ylabel(cost_func_name, fontsize=label_font_size)\n",
    "    plt.xlabel(\"Entropy parameter\", fontsize=label_font_size)\n",
    "    plt.xscale(\"log\")\n",
    "    plt.xlim([epsilons[0], epsilons[-1]])\n",
    "    plt.ylim([0,None])\n",
    "    plt.legend(fontsize=tick_font_size)                 \n",
    "    plt.xticks(fontsize=tick_font_size)  \n",
    "    plt.yticks(fontsize=tick_font_size)  \n",
    "                                          \n",
    "    return \n"
   ]
  },
  {
   "cell_type": "code",
   "execution_count": 41,
   "metadata": {},
   "outputs": [
    {
     "data": {
      "image/png": "[encoded data removed]",
      "text/plain": [
       "<Figure size 432x288 with 1 Axes>"
      ]
     },
     "metadata": {
      "needs_background": "light"
     },
     "output_type": "display_data"
    }
   ],
   "source": [
    "if (early_batch_time, late_batch_time) == (210,270):\n",
    "    plot_precomputed_metrics(early_time_errors, \"Normalized ancestor error\", epsilons, scale = ind_early_cost)\n",
    "    plt.savefig(save_dir + \"figure_3c.pdf\", bbox_inches = \"tight\")"
   ]
  },
  {
   "cell_type": "code",
   "execution_count": 42,
   "metadata": {},
   "outputs": [
    {
     "data": {
      "image/png": "[encoded data removed]",
      "text/plain": [
       "<Figure size 432x288 with 1 Axes>"
      ]
     },
     "metadata": {
      "needs_background": "light"
     },
     "output_type": "display_data"
    }
   ],
   "source": [
    "if (early_batch_time, late_batch_time) == (210,270):\n",
    "    plot_precomputed_metrics(late_time_errors, \"Normalized descendant error\", epsilons, scale = ind_late_cost)\n",
    "    plt.savefig(save_dir + \"figure_3d.pdf\", bbox_inches = \"tight\")"
   ]
  },
  {
   "cell_type": "markdown",
   "metadata": {},
   "source": [
    "### Which cells does LineageOT predict better?"
   ]
  },
  {
   "cell_type": "code",
   "execution_count": 43,
   "metadata": {},
   "outputs": [],
   "source": [
    "ancestor_errors = {}\n",
    "descendant_errors = {}\n",
    "label_font_size = 18\n",
    "tick_font_size = 12"
   ]
  },
  {
   "cell_type": "code",
   "execution_count": 44,
   "metadata": {},
   "outputs": [],
   "source": [
    "best_coupling_keys = ['lineage entropic rna 5.0', 'entropic rna 10.0']\n",
    "for key in best_coupling_keys:\n",
    "    ancestor_errors[key] = [ot.emd2(couplings[key][:, i]/np.sum(couplings[key][:, i]),\n",
    "                                    couplings['true'][:, i]/np.sum(couplings['true'][:, i]),\n",
    "                                    early_time_rna_cost)\n",
    "                            for i in range(couplings['true'].shape[1])]\n",
    "    descendant_errors[key] = [ot.emd2(couplings[key][i, :]/np.sum(couplings[key][i, :]),\n",
    "                                      couplings['true'][i, :]/np.sum(couplings['true'][i, :]),\n",
    "                                      late_time_rna_cost)\n",
    "                            for i in range(couplings['true'].shape[0])]"
   ]
  },
  {
   "cell_type": "code",
   "execution_count": 45,
   "metadata": {},
   "outputs": [
    {
     "data": {
      "image/png": "[encoded data removed]",
      "text/plain": [
       "<Figure size 432x288 with 1 Axes>"
      ]
     },
     "metadata": {
      "needs_background": "light"
     },
     "output_type": "display_data"
    }
   ],
   "source": [
    "xmax = np.max(descendant_errors[best_coupling_keys[1]])\n",
    "plt.scatter(descendant_errors[best_coupling_keys[1]],\n",
    "            descendant_errors[best_coupling_keys[0]],\n",
    "            alpha = 0.2\n",
    "           )\n",
    "plt.plot([0,1+xmax], [0, 1+xmax], color = 'r')\n",
    "plt.ylabel('LineageOT descendant error', fontsize=label_font_size)\n",
    "plt.xlabel('OT descendant error', fontsize=label_font_size)\n",
    "\n",
    "plt.xticks(fontsize=tick_font_size)\n",
    "plt.yticks(fontsize=tick_font_size)\n",
    "\n",
    "if (early_batch_time, late_batch_time) == (210,270):\n",
    "    plt.savefig(save_dir + \"figure_S5a.pdf\", bbox_inches = \"tight\")"
   ]
  },
  {
   "cell_type": "code",
   "execution_count": 46,
   "metadata": {},
   "outputs": [
    {
     "data": {
      "image/png": "[encoded data removed]",
      "text/plain": [
       "<Figure size 432x288 with 1 Axes>"
      ]
     },
     "metadata": {
      "needs_background": "light"
     },
     "output_type": "display_data"
    }
   ],
   "source": [
    "xmax = np.max(ancestor_errors[best_coupling_keys[1]])\n",
    "plt.scatter(ancestor_errors[best_coupling_keys[1]],\n",
    "            ancestor_errors[best_coupling_keys[0]],\n",
    "            alpha = 0.2\n",
    "           )\n",
    "plt.plot([0,1+xmax], [0, 1+xmax], color = 'r')\n",
    "plt.ylabel('LineageOT ancestor error', fontsize=label_font_size)\n",
    "plt.xlabel('OT ancestor error', fontsize=label_font_size)\n",
    "\n",
    "plt.xticks(fontsize=tick_font_size)\n",
    "plt.yticks(fontsize=tick_font_size)\n",
    "\n",
    "if (early_batch_time, late_batch_time) == (210,270):\n",
    "    plt.savefig(save_dir + \"figure_3b.pdf\", bbox_inches = \"tight\")"
   ]
  },
  {
   "cell_type": "code",
   "execution_count": null,
   "metadata": {},
   "outputs": [],
   "source": []
  }
 ],
 "metadata": {
  "kernelspec": {
   "display_name": "Python 3",
   "language": "python",
   "name": "python3"
  },
  "language_info": {
   "codemirror_mode": {
    "name": "ipython",
    "version": 3
   },
   "file_extension": ".py",
   "mimetype": "text/x-python",
   "name": "python",
   "nbconvert_exporter": "python",
   "pygments_lexer": "ipython3",
   "version": "3.6.10"
  }
 },
 "nbformat": 4,
 "nbformat_minor": 2
}
