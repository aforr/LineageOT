{
 "cells": [
  {
   "cell_type": "markdown",
   "metadata": {},
   "source": [
    "### Minimal LineageOT demo\n",
    "\n",
    "This notebook shows a minimal working example of the LineageOT pipeline."
   ]
  },
  {
   "cell_type": "code",
   "execution_count": 1,
   "metadata": {},
   "outputs": [],
   "source": [
    "import anndata\n",
    "import lineageot\n",
    "import numpy as np"
   ]
  },
  {
   "cell_type": "code",
   "execution_count": 2,
   "metadata": {},
   "outputs": [],
   "source": [
    "rng = np.random.default_rng()"
   ]
  },
  {
   "cell_type": "markdown",
   "metadata": {},
   "source": [
    "The anndata object requires three kinds of information:\n",
    "\n",
    "- Cell state measurements (in adata.X or adata.obsm)\n",
    "- Cell sampling times, relative to the root of lineage tree, i.e. fertilization (in adata.obs)\n",
    "- Cell lineage barcodes (in adata.obsm)\n",
    "\n",
    "The barcodes should be encoded as row vectors where each entry corresponds to a possibly-mutated site. A positive number indicates an observed mutation, zero indicates no mutation, and -1 indicates the site was not observed.\n",
    "\n",
    "For example, if row `i` of `adata.obsm['barcodes']` is\n",
    "```\n",
    "[0, 0, 13, -1]\n",
    "```\n",
    "that means that, out of four possible sites for mutations, cell `i` was observed to have no mutations in the first two sites and mutation 13 in the third site. The last site was not observed for cell `i`."
   ]
  },
  {
   "cell_type": "code",
   "execution_count": 3,
   "metadata": {},
   "outputs": [],
   "source": [
    "#Creating a minimal fake AnnData object to run LineageOT on\n",
    "\n",
    "t1 = 5;\n",
    "t2 = 10;\n",
    "\n",
    "n_cells_1 = 5;\n",
    "n_cells_2 = 10;\n",
    "n_cells = n_cells_1 + n_cells_2;\n",
    "\n",
    "n_genes = 5;\n",
    "\n",
    "barcode_length = 10;\n",
    "\n",
    "adata = anndata.AnnData(X = np.random.rand(n_cells, n_genes),\n",
    "                        obs = {\"time\" : np.concatenate([t1*np.ones(n_cells_1), t2*np.ones(n_cells_2)])},\n",
    "                        obsm = {\"barcodes\" : rng.integers(low = -1, high = 10, size = (n_cells, barcode_length))}\n",
    "                       )"
   ]
  },
  {
   "cell_type": "code",
   "execution_count": 4,
   "metadata": {},
   "outputs": [
    {
     "name": "stdout",
     "output_type": "stream",
     "text": [
      "     pcost       dcost       gap    pres   dres\n",
      " 0: -1.6721e+02 -2.7373e+02  1e+02  0e+00  6e-01\n",
      " 1: -1.8256e+02 -1.9172e+02  9e+00  8e-17  8e-02\n",
      " 2: -1.8461e+02 -1.8518e+02  6e-01  8e-17  3e-03\n",
      " 3: -1.8462e+02 -1.8463e+02  1e-02  8e-17  4e-05\n",
      " 4: -1.8462e+02 -1.8462e+02  1e-04  8e-17  4e-07\n",
      " 5: -1.8462e+02 -1.8462e+02  1e-06  5e-17  4e-09\n",
      "Optimal solution found.\n"
     ]
    }
   ],
   "source": [
    "# Running LineageOT\n",
    "\n",
    "lineage_tree_t2 = lineageot.fit_tree(adata[adata.obs['time'] == t2], t2)\n",
    "coupling = lineageot.fit_lineage_coupling(adata, t1, t2, lineage_tree_t2)"
   ]
  },
  {
   "cell_type": "code",
   "execution_count": 5,
   "metadata": {},
   "outputs": [],
   "source": [
    "# Saving the fitted coupling in the format Waddington-OT expects\n",
    "lineageot.save_coupling_as_tmap(coupling, t1, t2, './tmaps/example')"
   ]
  }
 ],
 "metadata": {
  "kernelspec": {
   "display_name": "Python 3",
   "language": "python",
   "name": "python3"
  },
  "language_info": {
   "codemirror_mode": {
    "name": "ipython",
    "version": 3
   },
   "file_extension": ".py",
   "mimetype": "text/x-python",
   "name": "python",
   "nbconvert_exporter": "python",
   "pygments_lexer": "ipython3",
   "version": "3.6.10"
  }
 },
 "nbformat": 4,
 "nbformat_minor": 2
}
